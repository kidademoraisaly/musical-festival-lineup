{
 "cells": [
  {
   "cell_type": "code",
   "execution_count": 26,
   "id": "d720dec2",
   "metadata": {},
   "outputs": [],
   "source": [
    "from musical_festival_lineup.mf_lineup import MFLineupSolution\n",
    "from musical_festival_lineup.mf_lineup_data import MFLineupData\n",
    "from musical_festival_lineup.utils import visualize_musical_lineup\n",
    "import numpy as np\n",
    "import time"
   ]
  },
  {
   "cell_type": "code",
   "execution_count": 27,
   "id": "2e6ac9d8",
   "metadata": {},
   "outputs": [],
   "source": [
    "%load_ext autoreload\n",
    "%autoreload 2"
   ]
  },
  {
   "cell_type": "markdown",
   "id": "73465e4c",
   "metadata": {},
   "source": [
    "### 1. Defining a  solution/individual"
   ]
  },
  {
   "cell_type": "markdown",
   "id": "7ceee08d",
   "metadata": {},
   "source": [
    "The  objective  is  to  design  the  optimal  festival  lineup  by  scheduling  artists  across  stages  and \n",
    "time  slots while:\n",
    "- Maximizing  prime  slot  popularity\n",
    "- Ensuring  genre  diversity  among  stages \n",
    "- Minimizing  fan conflicts  at each time slot. "
   ]
  },
  {
   "cell_type": "markdown",
   "id": "013d2e77",
   "metadata": {},
   "source": [
    "The problem involves creating a festival lineup by deciding which artist plays on which stage and at what time. There are 35 artists, 5 stages, and 7 time slots, and each artist must be scheduled exactly once. All stages have the same number of slots, and all performances happen in the same time blocks.\n",
    "To represent a solution, we used a list of 35 elements, where each element is an artist. The search space includes every possible combination where no artist repeats.\n",
    "We considered two ways of organising this list:\n",
    "-\t**Option 1** — Slot-based grouping:\n",
    "The first 5 elements represent the artists performing in Time Slot 1, one on each of the 5 stages.\n",
    "The next 5 elements represent Time Slot 2, and so on. \n",
    "Example: Positions 0-4 → Slot 1 (Stages 1-5), Positions 5-9 → Slot 2 (Stages 1-5), and so on up to Slot 7.\n",
    "-\t**Option 2** — Stage-based grouping:\n",
    "The first 7 elements represent the artists performing on Stage 1, one in each time slot.\n",
    "The next 7 elements represent Stage 2, and so on.\n",
    "\n",
    "\n",
    "We chose Option 1 (Slot-based) because it works better with our fitness function, which compares artists performing at the same time on different stages. It also makes it easier to preserve the time slot grouping — which is what we want to maintain across generations — when applying crossover operations in the Genetic Algorithm.\n"
   ]
  },
  {
   "cell_type": "code",
   "execution_count": 28,
   "id": "ff30a1b8",
   "metadata": {},
   "outputs": [
    {
     "data": {
      "text/plain": [
       "'12,4,23,34,24,15,20,9,19,33,3,30,27,7,17,28,21,22,16,25,18,5,26,32,14,13,6,1,8,11,29,10,0,31,2'"
      ]
     },
     "execution_count": 28,
     "metadata": {},
     "output_type": "execute_result"
    }
   ],
   "source": [
    "data=MFLineupData()\n",
    "lineup=MFLineupSolution(data=data)\n",
    "\",\".join([ str(i) for i in lineup.repr])"
   ]
  },
  {
   "cell_type": "code",
   "execution_count": 29,
   "id": "16e31f6d",
   "metadata": {},
   "outputs": [
    {
     "data": {
      "text/html": [
       "<div>\n",
       "<style scoped>\n",
       "    .dataframe tbody tr th:only-of-type {\n",
       "        vertical-align: middle;\n",
       "    }\n",
       "\n",
       "    .dataframe tbody tr th {\n",
       "        vertical-align: top;\n",
       "    }\n",
       "\n",
       "    .dataframe thead th {\n",
       "        text-align: right;\n",
       "    }\n",
       "</style>\n",
       "<table border=\"1\" class=\"dataframe\">\n",
       "  <thead>\n",
       "    <tr style=\"text-align: right;\">\n",
       "      <th></th>\n",
       "      <th>Slot</th>\n",
       "      <th>Stage 1</th>\n",
       "      <th>Stage 2</th>\n",
       "      <th>Stage 3</th>\n",
       "      <th>Stage 4</th>\n",
       "      <th>Stage 5</th>\n",
       "    </tr>\n",
       "  </thead>\n",
       "  <tbody>\n",
       "    <tr>\n",
       "      <th>0</th>\n",
       "      <td>Slot 1</td>\n",
       "      <td>12: Blue Horizon|Pop|51</td>\n",
       "      <td>4: The Silver Owls|Classical|85</td>\n",
       "      <td>23: Electric Serpents|Electronic|99</td>\n",
       "      <td>34: Parallel Dimension|Electronic|58</td>\n",
       "      <td>24: Shadow Cadence|Jazz|66</td>\n",
       "    </tr>\n",
       "    <tr>\n",
       "      <th>1</th>\n",
       "      <td>Slot 2</td>\n",
       "      <td>15: Golden Ember|Rock|61</td>\n",
       "      <td>20: The Sonic Drifters|Rock|88</td>\n",
       "      <td>9: Deep Resonance|Jazz|90</td>\n",
       "      <td>19: Astral Tide|Electronic|69</td>\n",
       "      <td>33: Cosmic Frequency|Rock|53</td>\n",
       "    </tr>\n",
       "    <tr>\n",
       "      <th>2</th>\n",
       "      <td>Slot 3</td>\n",
       "      <td>3: Neon Reverie|Electronic|100</td>\n",
       "      <td>30: Turbo Vortex|Rock|53</td>\n",
       "      <td>27: Hypnotic Echoes|Rock|77</td>\n",
       "      <td>7: Static Mirage|Rock|94</td>\n",
       "      <td>17: Nightfall Sonata|Classical|84</td>\n",
       "    </tr>\n",
       "    <tr>\n",
       "      <th>3</th>\n",
       "      <td>Slot 4</td>\n",
       "      <td>28: The Polyrhythm Syndicate|Jazz|66</td>\n",
       "      <td>21: Celestial Voyage|Electronic|95</td>\n",
       "      <td>22: Quantum Beat|Hip-Hop|96</td>\n",
       "      <td>16: Mystic Rhythms|Classical|78</td>\n",
       "      <td>25: Rhythm Alchemy|Jazz|94</td>\n",
       "    </tr>\n",
       "    <tr>\n",
       "      <th>4</th>\n",
       "      <td>Slot 5</td>\n",
       "      <td>18: Velvet Underground|Rock|72</td>\n",
       "      <td>5: Echo Chamber|Electronic|98</td>\n",
       "      <td>26: Cloud Nine Collective|Pop|97</td>\n",
       "      <td>32: The Bassline Architects|Hip-Hop|61</td>\n",
       "      <td>14: Synthwave Saints|Rock|94</td>\n",
       "    </tr>\n",
       "    <tr>\n",
       "      <th>5</th>\n",
       "      <td>Slot 6</td>\n",
       "      <td>13: Lunar Spectrum|Rock|99</td>\n",
       "      <td>6: Aurora Skies|Pop|75</td>\n",
       "      <td>1: Solar Flare|Electronic|78</td>\n",
       "      <td>8: Crimson Harmony|Classical|20</td>\n",
       "      <td>11: Phantom Groove|Hip-Hop|47</td>\n",
       "    </tr>\n",
       "    <tr>\n",
       "      <th>6</th>\n",
       "      <td>Slot 7</td>\n",
       "      <td>29: Harmonic Dissonance|Classical|96</td>\n",
       "      <td>10: The Wandering Notes|Jazz|84</td>\n",
       "      <td>0: Midnight Echo|Rock|75</td>\n",
       "      <td>31: The Jazz Nomads|Jazz|64</td>\n",
       "      <td>2: Velvet Pulse|Jazz|35</td>\n",
       "    </tr>\n",
       "  </tbody>\n",
       "</table>\n",
       "</div>"
      ],
      "text/plain": [
       "     Slot                               Stage 1  \\\n",
       "0  Slot 1               12: Blue Horizon|Pop|51   \n",
       "1  Slot 2              15: Golden Ember|Rock|61   \n",
       "2  Slot 3        3: Neon Reverie|Electronic|100   \n",
       "3  Slot 4  28: The Polyrhythm Syndicate|Jazz|66   \n",
       "4  Slot 5        18: Velvet Underground|Rock|72   \n",
       "5  Slot 6            13: Lunar Spectrum|Rock|99   \n",
       "6  Slot 7  29: Harmonic Dissonance|Classical|96   \n",
       "\n",
       "                              Stage 2                              Stage 3  \\\n",
       "0     4: The Silver Owls|Classical|85  23: Electric Serpents|Electronic|99   \n",
       "1      20: The Sonic Drifters|Rock|88            9: Deep Resonance|Jazz|90   \n",
       "2            30: Turbo Vortex|Rock|53          27: Hypnotic Echoes|Rock|77   \n",
       "3  21: Celestial Voyage|Electronic|95          22: Quantum Beat|Hip-Hop|96   \n",
       "4       5: Echo Chamber|Electronic|98     26: Cloud Nine Collective|Pop|97   \n",
       "5              6: Aurora Skies|Pop|75         1: Solar Flare|Electronic|78   \n",
       "6     10: The Wandering Notes|Jazz|84             0: Midnight Echo|Rock|75   \n",
       "\n",
       "                                  Stage 4                            Stage 5  \n",
       "0    34: Parallel Dimension|Electronic|58         24: Shadow Cadence|Jazz|66  \n",
       "1           19: Astral Tide|Electronic|69       33: Cosmic Frequency|Rock|53  \n",
       "2                7: Static Mirage|Rock|94  17: Nightfall Sonata|Classical|84  \n",
       "3         16: Mystic Rhythms|Classical|78         25: Rhythm Alchemy|Jazz|94  \n",
       "4  32: The Bassline Architects|Hip-Hop|61       14: Synthwave Saints|Rock|94  \n",
       "5         8: Crimson Harmony|Classical|20      11: Phantom Groove|Hip-Hop|47  \n",
       "6             31: The Jazz Nomads|Jazz|64            2: Velvet Pulse|Jazz|35  "
      ]
     },
     "execution_count": 29,
     "metadata": {},
     "output_type": "execute_result"
    }
   ],
   "source": [
    "visualize_musical_lineup(lineup.repr, data.artists_df)"
   ]
  },
  {
   "cell_type": "markdown",
   "id": "450d88dd",
   "metadata": {},
   "source": [
    "- Get artists of slot"
   ]
  },
  {
   "cell_type": "code",
   "execution_count": 30,
   "id": "b6f52dc3",
   "metadata": {},
   "outputs": [
    {
     "data": {
      "text/plain": [
       "[29, 10, 0, 31, 2]"
      ]
     },
     "execution_count": 30,
     "metadata": {},
     "output_type": "execute_result"
    }
   ],
   "source": [
    "lineup._get_slot_repr_list(slot=6)"
   ]
  },
  {
   "cell_type": "markdown",
   "id": "dff8542a",
   "metadata": {},
   "source": [
    "### 2. Defining fitness"
   ]
  },
  {
   "cell_type": "markdown",
   "id": "312fea55",
   "metadata": {},
   "source": [
    "The quality of a festival lineup is determined by balancing **`three equally`** important objectives, each contributing to the overall score. Because these objectives operate on different scales, **they must be normalized to a common range (between 0 and 1) to ensure equal contribution to the final fitness score.**\n",
    "<br>\n",
    "The objectives are as follows:\n",
    "\n",
    "---\n",
    "\n",
    "**`Prime Slot Popularity`**:  \n",
    "The most popular artists should be scheduled in the prime slots (**the last time slot on each stage**). This score is calculated by normalizing the total popularity of artists performing in prime slots against the maximum possible total popularity  \n",
    "(e.g., if only the highest popularity artists — scoring 100 — were scheduled in those slots).\n",
    "\n",
    "---\n",
    "\n",
    "**`Genre Diversity`**:  \n",
    "A diverse range of **genres across stages in each time slot** enhances the festival experience. This score is obtained by normalizing the number of unique genres in each time slot relative to the maximum possible unique genres  \n",
    "(e.g., if only distinct genres were scheduled in that slot). The average across all time slots is then taken.\n",
    "\n",
    "---\n",
    "\n",
    "**`Conflict Penalty`**:  \n",
    "**Fan conflicts occur when artists with overlapping audiences perform simultaneously on different stages.**  \n",
    "This score is calculated by normalizing the total conflict value in each time slot against the worst-case conflict scenario  \n",
    "(e.g., when all artists with the highest conflict values are scheduled together). The average normalized score across time slots is taken. Since conflicts detract from the lineup quality, this score acts as a penalty."
   ]
  },
  {
   "cell_type": "markdown",
   "id": "2e70f6fa",
   "metadata": {},
   "source": [
    "To manage the information needed for these calculations:\n",
    "- we created a class called **LineupData**, which organises thedata related to the artists — such as their popularity, genres and conflicts — and provides functions to calculate the necessary metrics.\n",
    "\n",
    "- For each of these objectives, we defined a function to calculate the value based on a list of five artist IDs (one slot). Since each goal uses different values and scales, we needed to normalise them. To do this, we worked out the maximum possible value for each objective.\n"
   ]
  },
  {
   "cell_type": "markdown",
   "id": "9a82c77d",
   "metadata": {},
   "source": [
    "| Objective           | Description                                                 | Calculation Method                                            | Normalization                                                                                                  | Weight |\n",
    "|---------------------|-------------------------------------------------------------|--------------------------------------------------------------|----------------------------------------------------------------------------------------------------------------|--------|\n",
    "| Prime Slot Popularity| Measures how popular the artists in the final time slot are | Sum of popularity scores for the 5 artists in the final slot | Divided by sum of the 5 highest popularity scores in dataset, as there are five stages.                        | 1/3    |\n",
    "| Genre Diversity     | Measures the variety of genres in each time slot             | Count of unique genres represented in each slot              | Divided by 5 (max possible distinct genres per slot). —The minimum between the total number of available genres and the number of stages | 1/3    |\n",
    "| Conflict Penalty    | Penalizes scheduling artists with overlapping fan bases at the same time | Sum of conflict values between all pairs of artists in a slot | Divided by sum of the 10 highest conflict values in dataset. The maximum possible conflict in a slot is the sum of the 10 highest conflicts, because there are 10 artist pairs in 5 stages (from the combination of 5 taken 2 at a time) | 1/3    |\n"
   ]
  },
  {
   "cell_type": "markdown",
   "id": "e87fd65f",
   "metadata": {},
   "source": [
    "__`Prime  Slot  Popularity`__  "
   ]
  },
  {
   "cell_type": "markdown",
   "id": "e638e062",
   "metadata": {},
   "source": [
    "1.  Maximum  possible  total  popularity, having into account that There is 5 stages, so we eill be summing the 5(NUM STAGES) largest"
   ]
  },
  {
   "cell_type": "code",
   "execution_count": 31,
   "id": "b24baeec",
   "metadata": {},
   "outputs": [
    {
     "data": {
      "text/plain": [
       "493"
      ]
     },
     "execution_count": 31,
     "metadata": {},
     "output_type": "execute_result"
    }
   ],
   "source": [
    "data.max_popularity_in_prime_slot"
   ]
  },
  {
   "cell_type": "markdown",
   "id": "8e92900a",
   "metadata": {},
   "source": [
    "2. Total  popularity  of  artists: <br>\n",
    "For that, it was defined a function that receives artists Ids and returns the popularity for that specifics Ids. <br>\n",
    "Lets test it!\n",
    "\n"
   ]
  },
  {
   "cell_type": "code",
   "execution_count": 32,
   "id": "7d41e374",
   "metadata": {},
   "outputs": [
    {
     "data": {
      "text/plain": [
       "1031"
      ]
     },
     "execution_count": 32,
     "metadata": {},
     "output_type": "execute_result"
    }
   ],
   "source": [
    "#Summing popularity of all artists\n",
    "data.get_sum_popularity(list(range(14)))"
   ]
  },
  {
   "cell_type": "code",
   "execution_count": 33,
   "id": "fccd5a9c",
   "metadata": {},
   "outputs": [
    {
     "data": {
      "text/plain": [
       "298"
      ]
     },
     "execution_count": 33,
     "metadata": {},
     "output_type": "execute_result"
    }
   ],
   "source": [
    "#Summing popularity of [1,2,3,4]\n",
    "data.get_sum_popularity([1,2,3,4])"
   ]
  },
  {
   "cell_type": "markdown",
   "id": "4312923d",
   "metadata": {},
   "source": [
    "3. Normalizing the popularity against the max number of popularity"
   ]
  },
  {
   "cell_type": "code",
   "execution_count": 34,
   "id": "20074d73",
   "metadata": {},
   "outputs": [
    {
     "data": {
      "text/plain": [
       "0.6044624746450304"
      ]
     },
     "execution_count": 34,
     "metadata": {},
     "output_type": "execute_result"
    }
   ],
   "source": [
    "lineup._get_popularity_normalized([1,2,3,4])"
   ]
  },
  {
   "cell_type": "markdown",
   "id": "20c22305",
   "metadata": {},
   "source": [
    "__`Genre  Diversity`__  : "
   ]
  },
  {
   "cell_type": "markdown",
   "id": "e734b5bc",
   "metadata": {},
   "source": [
    "Get maximum number of genres per slot, can not be greater than the total number of stages, which is 51."
   ]
  },
  {
   "cell_type": "code",
   "execution_count": 35,
   "id": "a4502f44",
   "metadata": {},
   "outputs": [
    {
     "data": {
      "text/plain": [
       "5"
      ]
     },
     "execution_count": 35,
     "metadata": {},
     "output_type": "execute_result"
    }
   ],
   "source": [
    "#Genre  Diversity\n",
    "data.max_distinct_genre_per_slot"
   ]
  },
  {
   "cell_type": "markdown",
   "id": "914bc80b",
   "metadata": {},
   "source": [
    "2. Number of distinct genres : <br>\n",
    "For that, it was defined a function that receives artists Ids and returns distinct genres in that list of specifics Ids. <br>\n",
    "Lets test it!\n"
   ]
  },
  {
   "cell_type": "code",
   "execution_count": 36,
   "id": "544cdd32",
   "metadata": {},
   "outputs": [
    {
     "data": {
      "text/plain": [
       "3"
      ]
     },
     "execution_count": 36,
     "metadata": {},
     "output_type": "execute_result"
    }
   ],
   "source": [
    "data.get_count_distinct_genres([0,1,10,2])"
   ]
  },
  {
   "cell_type": "markdown",
   "id": "7481e095",
   "metadata": {},
   "source": [
    "3. Normalizing the genres against the max number of distinct genres"
   ]
  },
  {
   "cell_type": "code",
   "execution_count": 37,
   "id": "346deedf",
   "metadata": {},
   "outputs": [
    {
     "data": {
      "text/plain": [
       "0.6"
      ]
     },
     "execution_count": 37,
     "metadata": {},
     "output_type": "execute_result"
    }
   ],
   "source": [
    "lineup._get_genre_diversity_normalized(artists_ids_list=[0,1,10])"
   ]
  },
  {
   "cell_type": "markdown",
   "id": "ef292444",
   "metadata": {},
   "source": [
    "__`Penalty Conflict`__  : "
   ]
  },
  {
   "cell_type": "markdown",
   "id": "d2d17311",
   "metadata": {},
   "source": [
    "1. Get maximum possible conflift, the  worst  possible  conflict  scenario, so for that we get the top K worst case scenerio. <br>\n",
    " What is K?\n",
    " Is the numbers os conflits in a slot, which is the combination of 5 elements when grouping in two so, we will have C5,2, tthat is equal to 10.\n",
    " So will will be choosing the top 10 worst conflits\n"
   ]
  },
  {
   "cell_type": "code",
   "execution_count": 38,
   "id": "855156ff",
   "metadata": {},
   "outputs": [
    {
     "data": {
      "text/plain": [
       "np.float64(10.0)"
      ]
     },
     "execution_count": 38,
     "metadata": {},
     "output_type": "execute_result"
    }
   ],
   "source": [
    "data.max_worst_conflit_per_slot"
   ]
  },
  {
   "cell_type": "code",
   "execution_count": 39,
   "id": "a88e0fb1",
   "metadata": {},
   "outputs": [
    {
     "data": {
      "text/plain": [
       "np.float64(10.0)"
      ]
     },
     "execution_count": 39,
     "metadata": {},
     "output_type": "execute_result"
    }
   ],
   "source": [
    "data.max_worst_conflit_per_slot"
   ]
  },
  {
   "cell_type": "markdown",
   "id": "cde86f96",
   "metadata": {},
   "source": [
    "2. The  Total  conflict  value  in  each  slot : <br>\n",
    "For that, it was defined a function that receives artists Ids and sum of all conflicts in the list. <br>\n",
    "Lets test it!\n"
   ]
  },
  {
   "cell_type": "code",
   "execution_count": 40,
   "id": "f21e6f87",
   "metadata": {},
   "outputs": [
    {
     "data": {
      "text/plain": [
       "np.float64(1.8)"
      ]
     },
     "execution_count": 40,
     "metadata": {},
     "output_type": "execute_result"
    }
   ],
   "source": [
    "data.get_sum_conflicts([3,1,10])"
   ]
  },
  {
   "cell_type": "code",
   "execution_count": 41,
   "id": "d8ddb779",
   "metadata": {},
   "outputs": [
    {
     "data": {
      "text/plain": [
       "np.float64(5.75)"
      ]
     },
     "execution_count": 41,
     "metadata": {},
     "output_type": "execute_result"
    }
   ],
   "source": [
    "data.get_sum_conflicts([32, 29, 25, 13, 30])"
   ]
  },
  {
   "cell_type": "code",
   "execution_count": 42,
   "id": "2296bf1a",
   "metadata": {},
   "outputs": [
    {
     "data": {
      "text/plain": [
       "np.float64(0.9)"
      ]
     },
     "execution_count": 42,
     "metadata": {},
     "output_type": "execute_result"
    }
   ],
   "source": [
    "data.get_sum_conflicts([2,10])"
   ]
  },
  {
   "cell_type": "markdown",
   "id": "53a0f298",
   "metadata": {},
   "source": [
    "3. Normalizing the conflicts against the worst conflit scenario"
   ]
  },
  {
   "cell_type": "code",
   "execution_count": 43,
   "id": "6cf8e684",
   "metadata": {},
   "outputs": [
    {
     "data": {
      "text/plain": [
       "np.float64(0.18)"
      ]
     },
     "execution_count": 43,
     "metadata": {},
     "output_type": "execute_result"
    }
   ],
   "source": [
    "lineup._get_conflicts_normalized(artists_ids_list=[3,1,10])"
   ]
  },
  {
   "cell_type": "code",
   "execution_count": 44,
   "id": "5055dd05",
   "metadata": {},
   "outputs": [
    {
     "data": {
      "text/plain": [
       "np.float64(0.575)"
      ]
     },
     "execution_count": 44,
     "metadata": {},
     "output_type": "execute_result"
    }
   ],
   "source": [
    "lineup._get_conflicts_normalized(artists_ids_list=[32, 29, 25, 13, 30])"
   ]
  },
  {
   "cell_type": "markdown",
   "id": "9f9fb731",
   "metadata": {},
   "source": [
    "##### 3.2 Other important functions in the solution"
   ]
  },
  {
   "cell_type": "markdown",
   "id": "6faf9b3a",
   "metadata": {},
   "source": [
    "- Get the list of artists Ids in a Slot, Slot is a parameter"
   ]
  },
  {
   "cell_type": "code",
   "execution_count": 45,
   "id": "72b8a478",
   "metadata": {},
   "outputs": [
    {
     "data": {
      "text/plain": [
       "[15, 20, 9, 19, 33]"
      ]
     },
     "execution_count": 45,
     "metadata": {},
     "output_type": "execute_result"
    }
   ],
   "source": [
    "lineup._get_slot_repr_list(1)"
   ]
  },
  {
   "cell_type": "code",
   "execution_count": 46,
   "id": "ff41c8c2",
   "metadata": {},
   "outputs": [
    {
     "data": {
      "text/plain": [
       "[12, 4, 23, 34, 24]"
      ]
     },
     "execution_count": 46,
     "metadata": {},
     "output_type": "execute_result"
    }
   ],
   "source": [
    "lineup._get_slot_repr_list(0)"
   ]
  },
  {
   "cell_type": "markdown",
   "id": "7fcb3fe5",
   "metadata": {},
   "source": [
    "##### 3.3 Fitness"
   ]
  },
  {
   "cell_type": "code",
   "execution_count": 47,
   "id": "dd3eed16",
   "metadata": {},
   "outputs": [
    {
     "name": "stdout",
     "output_type": "stream",
     "text": [
      "Slot of artists: [21, 29, 9, 10, 5]\n",
      "Slot 0: Conflitcs: 0.49000000000000005, genres: 0.6, sum_popularity: 0\n",
      "Slot 0: List of  Conflitcs: [np.float64(0.49000000000000005)], List of genres: [0.6], Popularity of the prime slot: 0\n",
      "Slot of artists: [11, 17, 33, 24, 1]\n",
      "Slot 1: Conflitcs: 0.3, genres: 1.0, sum_popularity: 0\n",
      "Slot 1: List of  Conflitcs: [np.float64(0.49000000000000005), np.float64(0.3)], List of genres: [0.6, 1.0], Popularity of the prime slot: 0\n",
      "Slot of artists: [7, 18, 31, 23, 32]\n",
      "Slot 2: Conflitcs: 0.37, genres: 0.8, sum_popularity: 0\n",
      "Slot 2: List of  Conflitcs: [np.float64(0.49000000000000005), np.float64(0.3), np.float64(0.37)], List of genres: [0.6, 1.0, 0.8], Popularity of the prime slot: 0\n",
      "Slot of artists: [3, 28, 6, 8, 13]\n",
      "Slot 3: Conflitcs: 0.24, genres: 1.0, sum_popularity: 0\n",
      "Slot 3: List of  Conflitcs: [np.float64(0.49000000000000005), np.float64(0.3), np.float64(0.37), np.float64(0.24)], List of genres: [0.6, 1.0, 0.8, 1.0], Popularity of the prime slot: 0\n",
      "Slot of artists: [27, 0, 15, 4, 22]\n",
      "Slot 4: Conflitcs: 0.39, genres: 0.6, sum_popularity: 0\n",
      "Slot 4: List of  Conflitcs: [np.float64(0.49000000000000005), np.float64(0.3), np.float64(0.37), np.float64(0.24), np.float64(0.39)], List of genres: [0.6, 1.0, 0.8, 1.0, 0.6], Popularity of the prime slot: 0\n",
      "Slot of artists: [20, 30, 12, 14, 34]\n",
      "Slot 5: Conflitcs: 0.58, genres: 0.6, sum_popularity: 0\n",
      "Slot 5: List of  Conflitcs: [np.float64(0.49000000000000005), np.float64(0.3), np.float64(0.37), np.float64(0.24), np.float64(0.39), np.float64(0.58)], List of genres: [0.6, 1.0, 0.8, 1.0, 0.6, 0.6], Popularity of the prime slot: 0\n",
      "Slot of artists: [16, 19, 2, 26, 25]\n",
      "Slot 6: Conflitcs: 0.5, genres: 0.8, sum_popularity: 0.7565922920892495\n",
      "Slot 6: List of  Conflitcs: [np.float64(0.49000000000000005), np.float64(0.3), np.float64(0.37), np.float64(0.24), np.float64(0.39), np.float64(0.58), np.float64(0.5)], List of genres: [0.6, 1.0, 0.8, 1.0, 0.6, 0.6, 0.8], Popularity of the prime slot: 0.7565922920892495\n",
      "Average of conflits: 0.41000000000000003, Average of distinct genres 0.7714285714285715, and Popularity in prime slot: 0.7565922920892495\n",
      "Fitness: 1.1180208635178208\n"
     ]
    },
    {
     "data": {
      "text/plain": [
       "np.float64(1.1180208635178208)"
      ]
     },
     "execution_count": 47,
     "metadata": {},
     "output_type": "execute_result"
    }
   ],
   "source": [
    "#Random 1\n",
    "lineup=MFLineupSolution(data=data)\n",
    "lineup.repr\n",
    "lineup.fitness(verbose=True)"
   ]
  },
  {
   "cell_type": "code",
   "execution_count": 48,
   "id": "0b7399e0",
   "metadata": {},
   "outputs": [
    {
     "name": "stdout",
     "output_type": "stream",
     "text": [
      "Slot of artists: [32, 7, 11, 9, 22]\n",
      "Slot 0: Conflitcs: 0.54, genres: 0.6, sum_popularity: 0\n",
      "Slot 0: List of  Conflitcs: [np.float64(0.54)], List of genres: [0.6], Popularity of the prime slot: 0\n",
      "Slot of artists: [25, 4, 19, 20, 24]\n",
      "Slot 1: Conflitcs: 0.55, genres: 0.8, sum_popularity: 0\n",
      "Slot 1: List of  Conflitcs: [np.float64(0.54), np.float64(0.55)], List of genres: [0.6, 0.8], Popularity of the prime slot: 0\n",
      "Slot of artists: [33, 21, 10, 26, 3]\n",
      "Slot 2: Conflitcs: 0.32, genres: 0.8, sum_popularity: 0\n",
      "Slot 2: List of  Conflitcs: [np.float64(0.54), np.float64(0.55), np.float64(0.32)], List of genres: [0.6, 0.8, 0.8], Popularity of the prime slot: 0\n",
      "Slot of artists: [2, 17, 12, 31, 14]\n",
      "Slot 3: Conflitcs: 0.255, genres: 0.8, sum_popularity: 0\n",
      "Slot 3: List of  Conflitcs: [np.float64(0.54), np.float64(0.55), np.float64(0.32), np.float64(0.255)], List of genres: [0.6, 0.8, 0.8, 0.8], Popularity of the prime slot: 0\n",
      "Slot of artists: [0, 34, 13, 8, 1]\n",
      "Slot 4: Conflitcs: 0.3350000000000001, genres: 0.6, sum_popularity: 0\n",
      "Slot 4: List of  Conflitcs: [np.float64(0.54), np.float64(0.55), np.float64(0.32), np.float64(0.255), np.float64(0.3350000000000001)], List of genres: [0.6, 0.8, 0.8, 0.8, 0.6], Popularity of the prime slot: 0\n",
      "Slot of artists: [15, 28, 23, 6, 5]\n",
      "Slot 5: Conflitcs: 0.48, genres: 0.8, sum_popularity: 0\n",
      "Slot 5: List of  Conflitcs: [np.float64(0.54), np.float64(0.55), np.float64(0.32), np.float64(0.255), np.float64(0.3350000000000001), np.float64(0.48)], List of genres: [0.6, 0.8, 0.8, 0.8, 0.6, 0.8], Popularity of the prime slot: 0\n",
      "Slot of artists: [30, 18, 16, 27, 29]\n",
      "Slot 6: Conflitcs: 0.52, genres: 0.4, sum_popularity: 0.7626774847870182\n",
      "Slot 6: List of  Conflitcs: [np.float64(0.54), np.float64(0.55), np.float64(0.32), np.float64(0.255), np.float64(0.3350000000000001), np.float64(0.48), np.float64(0.52)], List of genres: [0.6, 0.8, 0.8, 0.8, 0.6, 0.8, 0.4], Popularity of the prime slot: 0.7626774847870182\n",
      "Average of conflits: 0.42857142857142855, Average of distinct genres 0.6857142857142857, and Popularity in prime slot: 0.7626774847870182\n",
      "Fitness: 1.0198203419298755\n"
     ]
    },
    {
     "data": {
      "text/plain": [
       "np.float64(1.0198203419298755)"
      ]
     },
     "execution_count": 48,
     "metadata": {},
     "output_type": "execute_result"
    }
   ],
   "source": [
    "#Random 2\n",
    "lineup=MFLineupSolution(data=data)\n",
    "lineup.repr\n",
    "lineup.fitness(verbose=True)"
   ]
  }
 ],
 "metadata": {
  "kernelspec": {
   "display_name": "Python 3 (ipykernel)",
   "language": "python",
   "name": "python3"
  },
  "language_info": {
   "codemirror_mode": {
    "name": "ipython",
    "version": 3
   },
   "file_extension": ".py",
   "mimetype": "text/x-python",
   "name": "python",
   "nbconvert_exporter": "python",
   "pygments_lexer": "ipython3",
   "version": "3.12.3"
  }
 },
 "nbformat": 4,
 "nbformat_minor": 5
}
